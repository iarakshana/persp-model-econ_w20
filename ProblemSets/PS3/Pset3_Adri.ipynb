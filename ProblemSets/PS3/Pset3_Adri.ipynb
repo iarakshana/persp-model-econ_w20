{
 "cells": [
  {
   "cell_type": "markdown",
   "metadata": {},
   "source": [
    "#### Exercise 5.1"
   ]
  },
  {
   "cell_type": "markdown",
   "metadata": {},
   "source": [
    "Here is the problem for $T$ = 1:\n",
    "\n",
    "$$\\max \\limits_{W_2\\in[0,W_1]}u(W_1-W_2)$$\n",
    "\n",
    "The optimal amount of cake leave for $W_2$ is 0."
   ]
  },
  {
   "cell_type": "markdown",
   "metadata": {},
   "source": [
    "#### Exercise 5.2"
   ]
  },
  {
   "cell_type": "markdown",
   "metadata": {},
   "source": [
    "The condition that characterizes the optimal amount of cake to leave for the next period $W_3$ in period 2:\n",
    "\n",
    "$$\\max \\limits_{W_3\\in[0,W_2]}u(W_2-W_3)$$\n",
    "\n",
    "The condition that characterizes the optimal amount of cake leave for the next period $W_2$ in period 1:\n",
    "\n",
    "$$\\max \\limits_{W_2\\in[0,W_1]}[u(W_1-W_2)+\\max \\limits_{W_3\\in[0,W_2]}\\beta u(W_2-W_3)]$$"
   ]
  },
  {
   "cell_type": "markdown",
   "metadata": {},
   "source": [
    "#### Exercise 5.3"
   ]
  },
  {
   "cell_type": "markdown",
   "metadata": {},
   "source": [
    "The condition that characterizes the optimal amount of cake to leave for the next period $W_4$ in period 3:\n",
    "\n",
    "$$\\max \\limits_{W_4\\in[0,W_3]}\\beta u(W_3-W_4)$$\n",
    "\n",
    "The condition that characterizes the optimal amount of cake to leave for the next period $W_3$ in period 2:\n",
    "\n",
    "$$\\max \\limits_{W_3\\in[0,W_2]}\\beta [u(W_2-W_3)+\\max \\limits_{W_4\\in[0,W_3]}\\beta u(W_3-W_4)]$$\n",
    "\n",
    "The condition that characterizes the optimal amount of cake to leave for the next period $W_2$ in period 1:\n",
    "\n",
    "$$\\max \\limits_{W_2\\in[0,W_1]}\\{u(W_1-W_2)+\\max \\limits_{W_3\\in[0,W_2]}\\beta [u(W_2-W_3)+\\max \\limits_{W_4\\in[0,W_3]}\\beta u(W_3-W_4)]\\}$$\n",
    "\n",
    "Take derivative of conditions, we get:\n",
    "\n",
    "$$W_4 = 0$$\n",
    "\n",
    "$$- u'(W_2-W_3)+\\beta u'(W_3-W_4)=0$$\n",
    "\n",
    "$$-u'(W_1-W_2)+\\beta u'(W_2-W_3)=0$$\n",
    "\n",
    "Since $W_1$ = 1, $W_4$ = 0 and the discount factor is $\\beta$ = 0.9, solve the equation and we get $W_2=0.631$, $W_3=0.299$. Calculate the consumption for each period, we get $c_1 = W_1-W_2 = 0.369$, $c_2 = W_2-W_3 = 0.332$, $c_3 = W_3-W_4 = 0.299$."
   ]
  },
  {
   "cell_type": "markdown",
   "metadata": {},
   "source": [
    "#### Exercise 5.4"
   ]
  },
  {
   "cell_type": "markdown",
   "metadata": {},
   "source": [
    "The value function $V_{T-1}$ is:\n",
    "\n",
    "$$V_{T-1}(W_{T-1})=u(W_{T-1}-\\psi_{T-1}(W_{T-1}))+\\beta u(\\psi_{T-1}(W_{T-1}))$$\n",
    "\n",
    "The condition that characterizes the optimal choice in period T-1 is:\n",
    "\n",
    "$$-u'(W_{T-1}-\\psi_{T-1}(W_{T-1}))+\\beta u'(\\psi_{T-1}(W_{T-1})) = 0$$"
   ]
  },
  {
   "cell_type": "markdown",
   "metadata": {},
   "source": [
    "#### Exercise 5.5"
   ]
  },
  {
   "cell_type": "markdown",
   "metadata": {},
   "source": [
    "When $u(x)=ln(x)$ and $V_T(\\bar{W})=u(\\bar{W})$, solve the condition that characterizes the optimal choice in period T-1:\n",
    "\n",
    "$$\\psi_{T-1}(\\bar{W})=\\frac{\\beta}{1+\\beta}\\bar{W}$$\n",
    "$$\\psi_{T}(\\bar{W}) = 0$$\n",
    "\n",
    "$\\psi_{T-1}(\\bar{W})$ is not equal to $\\psi_{T}(\\bar{W})$.\n",
    "\n",
    "$$V_{T-1}(\\bar{W})=ln(\\frac{\\bar{W}}{1+\\beta})+\\beta ln(\\frac{\\beta\\bar{W}}{1+\\beta})$$\n",
    "\n",
    "$$V_T(\\bar{W})=ln(\\bar{W})$$\n",
    "\n",
    "$V_{T-1}(\\bar{W})$ is not equal to $V_T(\\bar{W})$.\n",
    "\n"
   ]
  },
  {
   "cell_type": "markdown",
   "metadata": {},
   "source": [
    "#### Exercise 5.6"
   ]
  },
  {
   "cell_type": "markdown",
   "metadata": {},
   "source": [
    "The finite horizon Bellman equation for the value function at time $T − 2$:\n",
    "\n",
    "$$V_{T-2}(W_{T-2})= ln(W_{T-2}-W_{T-1}))+\\beta ln(W_{T-1} - \\beta W_{T})+\\beta^2 ln(\\beta W_{T})$$\n",
    "\n",
    "Using the envelope theorem:\n",
    "\n",
    "$$W_{T-1} - W_{T} = \\beta (W_{T-2} - \\beta W_{T-1})$$\n",
    "\n",
    "$$W_T = \\beta (W_{T-1} - W_{T})$$\n",
    "\n",
    "Here is the analytical solution for $\\psi_{T-2}(W_{T-2})$:\n",
    "\n",
    "$$\\psi_{T-2}(W_{T-2})=\\frac{\\beta+\\beta^{2}}{1+\\beta+\\beta^{2}}W_{T-2}$$\n",
    "\n",
    "Here is the analytical solution for $V_{T-2}(W_{T-2})$:\n",
    "\n",
    "$$V_{T-2}(W_{T-2}) = ln(\\frac{W_{T-2}}{1+\\beta+\\beta^{2}})+\\beta ln(\\frac{\\beta W_{T-2}}{1+\\beta+\\beta^{2}})+\\beta^2 ln(\\frac{ \\beta^{2} W_{T-2}}{1+\\beta+\\beta^{2}})$$\n"
   ]
  },
  {
   "cell_type": "markdown",
   "metadata": {},
   "source": [
    "#### Exercise 5.7"
   ]
  },
  {
   "cell_type": "markdown",
   "metadata": {},
   "source": [
    "The analytical solution for $\\psi_{T-s}(W_{T-s})$ is:\n",
    "\n",
    "$$\\psi_{T-s}(W_{T-s})=\\frac{\\sum\\limits_{i=1}^{s}\\beta^{i}}{\\sum\\limits_{i=0}^{s}\\beta^{i}}W_{T-s}$$\n",
    "\n",
    "The analytical solution for $V_{T-s}(W_{T-s})$ is:\n",
    "\n",
    "$$V_{T-s}(W_{T-s}) = \\sum\\limits_{i=0}^{s}\\beta^{i} · ln\\left(\\frac{\\beta^{i}}{\\sum\\limits_{j=0}^{s}\\beta^{j}}  W_{T-s} \\right)$$"
   ]
  },
  {
   "cell_type": "markdown",
   "metadata": {},
   "source": [
    "#### Exercise 5.8"
   ]
  },
  {
   "cell_type": "markdown",
   "metadata": {},
   "source": [
    "When the horizon is infinite, the Bellman equation for the cake eating problem is:\n",
    "$$V(W)=\\max \\limits_{w\\in[0,W]} u(W-W'))+\\beta V(W')$$"
   ]
  },
  {
   "cell_type": "code",
   "execution_count": 1,
   "metadata": {},
   "outputs": [],
   "source": [
    "import numpy as np\n",
    "import matplotlib.pyplot as plt\n",
    "import sympy as sp\n",
    "from scipy.stats import norm\n",
    "from mpl_toolkits.mplot3d import Axes3D"
   ]
  },
  {
   "cell_type": "markdown",
   "metadata": {},
   "source": [
    "#### Exercise 5.9"
   ]
  },
  {
   "cell_type": "code",
   "execution_count": 2,
   "metadata": {},
   "outputs": [],
   "source": [
    "N = 100\n",
    "W = np.linspace(1e-2, 1, N)"
   ]
  },
  {
   "cell_type": "markdown",
   "metadata": {},
   "source": [
    "#### Exercise 5.10"
   ]
  },
  {
   "cell_type": "code",
   "execution_count": 3,
   "metadata": {},
   "outputs": [],
   "source": [
    "beta = 0.9\n",
    "def u(c):\n",
    "    u = np.log(c)\n",
    "    return u"
   ]
  },
  {
   "cell_type": "markdown",
   "metadata": {},
   "source": [
    "The resulting policy function: $W' = \\psi_{T}(W) = 0$\n",
    "\n",
    "The value function: $V_T(W)$ = $ln(W)$"
   ]
  },
  {
   "cell_type": "code",
   "execution_count": 4,
   "metadata": {},
   "outputs": [
    {
     "name": "stdout",
     "output_type": "stream",
     "text": [
      "[-4.60517019 -3.91202301 -3.5065579  -3.21887582 -2.99573227 -2.81341072\n",
      " -2.65926004 -2.52572864 -2.40794561 -2.30258509 -2.20727491 -2.12026354\n",
      " -2.04022083 -1.96611286 -1.89711998 -1.83258146 -1.77195684 -1.71479843\n",
      " -1.66073121 -1.60943791 -1.56064775 -1.51412773 -1.46967597 -1.42711636\n",
      " -1.38629436 -1.34707365 -1.30933332 -1.27296568 -1.23787436 -1.2039728\n",
      " -1.17118298 -1.13943428 -1.10866262 -1.07880966 -1.04982212 -1.02165125\n",
      " -0.99425227 -0.96758403 -0.94160854 -0.91629073 -0.89159812 -0.86750057\n",
      " -0.84397007 -0.82098055 -0.7985077  -0.77652879 -0.75502258 -0.73396918\n",
      " -0.71334989 -0.69314718 -0.67334455 -0.65392647 -0.63487827 -0.61618614\n",
      " -0.597837   -0.5798185  -0.56211892 -0.54472718 -0.52763274 -0.51082562\n",
      " -0.49429632 -0.4780358  -0.46203546 -0.4462871  -0.43078292 -0.41551544\n",
      " -0.40047757 -0.38566248 -0.37106368 -0.35667494 -0.34249031 -0.32850407\n",
      " -0.31471074 -0.30110509 -0.28768207 -0.27443685 -0.26136476 -0.24846136\n",
      " -0.23572233 -0.22314355 -0.21072103 -0.19845094 -0.18632958 -0.17435339\n",
      " -0.16251893 -0.15082289 -0.13926207 -0.12783337 -0.11653382 -0.10536052\n",
      " -0.09431068 -0.08338161 -0.07257069 -0.0618754  -0.05129329 -0.04082199\n",
      " -0.03045921 -0.02020271 -0.01005034  0.        ]\n"
     ]
    }
   ],
   "source": [
    "V_T = u(W)\n",
    "print(V_T)"
   ]
  },
  {
   "cell_type": "code",
   "execution_count": 5,
   "metadata": {},
   "outputs": [
    {
     "data": {
      "text/plain": [
       "Text(0,0.5,'V_T')"
      ]
     },
     "execution_count": 5,
     "metadata": {},
     "output_type": "execute_result"
    },
    {
     "data": {
      "image/png": "[encoded data removed]",
      "text/plain": [
       "<Figure size 432x288 with 1 Axes>"
      ]
     },
     "metadata": {
      "needs_background": "light"
     },
     "output_type": "display_data"
    }
   ],
   "source": [
    "fig,ax = plt.subplots()\n",
    "ax.plot(W, V_T)\n",
    "ax.set_xlabel(\"W\")\n",
    "ax.set_ylabel(\"V_T\")"
   ]
  },
  {
   "cell_type": "markdown",
   "metadata": {},
   "source": [
    "#### Exercise 5.11"
   ]
  },
  {
   "cell_type": "code",
   "execution_count": 6,
   "metadata": {},
   "outputs": [
    {
     "data": {
      "text/plain": [
       "178.92611065972804"
      ]
     },
     "execution_count": 6,
     "metadata": {},
     "output_type": "execute_result"
    }
   ],
   "source": [
    "def d(V_T, V_Tp1):\n",
    "    d = ((V_Tp1 - V_T) ** 2).sum()\n",
    "    return d\n",
    "diff = d(V_T, np.zeros(N))\n",
    "diff"
   ]
  },
  {
   "cell_type": "markdown",
   "metadata": {},
   "source": [
    "#### Exercise 5.12"
   ]
  },
  {
   "cell_type": "code",
   "execution_count": 7,
   "metadata": {},
   "outputs": [
    {
     "data": {
      "text/plain": [
       "array([0.01, 0.01, 0.01, 0.02, 0.02, 0.03, 0.03, 0.04, 0.04, 0.05, 0.05,\n",
       "       0.06, 0.06, 0.07, 0.07, 0.08, 0.08, 0.09, 0.09, 0.09, 0.1 , 0.1 ,\n",
       "       0.11, 0.11, 0.12, 0.12, 0.13, 0.13, 0.14, 0.14, 0.15, 0.15, 0.16,\n",
       "       0.16, 0.17, 0.17, 0.18, 0.18, 0.18, 0.19, 0.19, 0.2 , 0.2 , 0.21,\n",
       "       0.21, 0.22, 0.22, 0.23, 0.23, 0.24, 0.24, 0.25, 0.25, 0.26, 0.26,\n",
       "       0.27, 0.27, 0.27, 0.28, 0.28, 0.29, 0.29, 0.3 , 0.3 , 0.31, 0.31,\n",
       "       0.32, 0.32, 0.33, 0.33, 0.34, 0.34, 0.35, 0.35, 0.36, 0.36, 0.36,\n",
       "       0.37, 0.37, 0.38, 0.38, 0.39, 0.39, 0.4 , 0.4 , 0.41, 0.41, 0.42,\n",
       "       0.42, 0.43, 0.43, 0.44, 0.44, 0.45, 0.45, 0.45, 0.46, 0.46, 0.47,\n",
       "       0.47])"
      ]
     },
     "execution_count": 7,
     "metadata": {},
     "output_type": "execute_result"
    }
   ],
   "source": [
    "c_mat = np.tile(W.reshape((N,1)), (1,N)) - np.tile(W.reshape((1,N)), (N,1))\n",
    "c_pos = c_mat > 0\n",
    "c_mat[~c_pos] = 1e-7  \n",
    "u_mat = u(c_mat)\n",
    "V_prime = np.tile(V_T.reshape((1,N)), (N,1))\n",
    "V_prime[~c_pos] = -9e+4\n",
    "V_Tp1 = (u_mat + beta * V_prime).max(axis = 1)  \n",
    "diff = d(V_T, V_Tp1)\n",
    "W_index = np.argmax(u_mat + beta * V_prime, axis=1)\n",
    "W_prime = W[W_index]\n",
    "W_prime"
   ]
  },
  {
   "cell_type": "code",
   "execution_count": 8,
   "metadata": {},
   "outputs": [
    {
     "data": {
      "text/plain": [
       "6562865744.5285635"
      ]
     },
     "execution_count": 8,
     "metadata": {},
     "output_type": "execute_result"
    }
   ],
   "source": [
    "diff = d(V_T, V_Tp1)\n",
    "diff"
   ]
  },
  {
   "cell_type": "markdown",
   "metadata": {},
   "source": [
    "#### Exercise 5.13"
   ]
  },
  {
   "cell_type": "code",
   "execution_count": 9,
   "metadata": {},
   "outputs": [
    {
     "data": {
      "text/plain": [
       "5315921432.356884"
      ]
     },
     "execution_count": 9,
     "metadata": {},
     "output_type": "execute_result"
    }
   ],
   "source": [
    "V_T = V_Tp1\n",
    "V_prime = np.tile(V_T.reshape((1,N)), (N,1))\n",
    "V_prime[~c_pos] = -9e+4\n",
    "V_Tp1 = (u_mat + beta * V_prime).max(axis = 1)  \n",
    "diff = d(V_T, V_Tp1)\n",
    "W_index = np.argmax(u_mat + beta * V_prime, axis=1)\n",
    "W_prime = W[W_index]\n",
    "diff = d(V_T, V_Tp1)\n",
    "diff"
   ]
  },
  {
   "cell_type": "markdown",
   "metadata": {},
   "source": [
    "#### Exercise 5.14"
   ]
  },
  {
   "cell_type": "code",
   "execution_count": 10,
   "metadata": {},
   "outputs": [
    {
     "name": "stdout",
     "output_type": "stream",
     "text": [
      "Number of iteration= 1 , distance = 5315921432.356884\n",
      "Number of iteration= 2 , distance = 4305896471.418966\n",
      "Number of iteration= 3 , distance = 3487776216.5675955\n",
      "Number of iteration= 4 , distance = 2825098788.019544\n",
      "Number of iteration= 5 , distance = 2288330056.357764\n",
      "Number of iteration= 6 , distance = 1853547373.8090138\n",
      "Number of iteration= 7 , distance = 1501373394.0455368\n",
      "Number of iteration= 8 , distance = 1216112465.4304204\n",
      "Number of iteration= 9 , distance = 985051109.6286845\n",
      "Number of iteration= 10 , distance = 797891408.7166361\n",
      "Number of iteration= 11 , distance = 646292049.0098146\n",
      "Number of iteration= 12 , distance = 523496566.09326845\n",
      "Number of iteration= 13 , distance = 424032223.8060949\n",
      "Number of iteration= 14 , distance = 343466105.6810028\n",
      "Number of iteration= 15 , distance = 278207549.28964245\n",
      "Number of iteration= 16 , distance = 225348118.14783967\n",
      "Number of iteration= 17 , distance = 182531978.5237014\n",
      "Number of iteration= 18 , distance = 147850905.07819986\n",
      "Number of iteration= 19 , distance = 119759235.2952075\n",
      "Number of iteration= 20 , distance = 97004982.62446027\n",
      "Number of iteration= 21 , distance = 78574037.84896688\n",
      "Number of iteration= 22 , distance = 63644972.47794887\n",
      "Number of iteration= 23 , distance = 51552429.430967025\n",
      "Number of iteration= 24 , distance = 41757469.47440472\n",
      "Number of iteration= 25 , distance = 33823551.827785835\n",
      "Number of iteration= 26 , distance = 27397078.459374633\n",
      "Number of iteration= 27 , distance = 22191634.962838765\n",
      "Number of iteration= 28 , distance = 17975225.668041237\n",
      "Number of iteration= 29 , distance = 14559934.08201728\n",
      "Number of iteration= 30 , distance = 11793547.845384818\n",
      "Number of iteration= 31 , distance = 9552774.945148401\n",
      "Number of iteration= 32 , distance = 7737748.852714853\n",
      "Number of iteration= 33 , distance = 6267577.678039737\n",
      "Number of iteration= 34 , distance = 5076738.990749551\n",
      "Number of iteration= 35 , distance = 4112159.6213727905\n",
      "Number of iteration= 36 , distance = 3330850.302746049\n",
      "Number of iteration= 37 , distance = 2697989.7279021647\n",
      "Number of iteration= 38 , distance = 2185372.6378935925\n",
      "Number of iteration= 39 , distance = 1770152.7729575469\n",
      "Number of iteration= 40 , distance = 1433824.6613737969\n",
      "Number of iteration= 41 , distance = 1161398.8725077203\n",
      "Number of iteration= 42 , distance = 940733.966255255\n",
      "Number of iteration= 43 , distance = 761995.3766587331\n",
      "Number of iteration= 44 , distance = 617217.1044967123\n",
      "Number of iteration= 45 , distance = 499946.69099409645\n",
      "Number of iteration= 46 , distance = 404957.64397924696\n",
      "Number of iteration= 47 , distance = 328016.50488471217\n",
      "Number of iteration= 48 , distance = 265694.17112556845\n",
      "Number of iteration= 49 , distance = 215213.07107789887\n",
      "Number of iteration= 50 , distance = 174323.37058658482\n",
      "Number of iteration= 51 , distance = 141202.70459295483\n",
      "Number of iteration= 52 , distance = 114374.95641636376\n",
      "Number of iteration= 53 , distance = 92644.47264714992\n",
      "Number of iteration= 54 , distance = 75042.7735946502\n",
      "Number of iteration= 55 , distance = 60785.389507979846\n",
      "Number of iteration= 56 , distance = 49236.90155629743\n",
      "Number of iteration= 57 , distance = 39882.61927987316\n",
      "Number of iteration= 58 , distance = 32305.644134738748\n",
      "Number of iteration= 59 , distance = 26168.287223927535\n",
      "Number of iteration= 60 , distance = 21197.021841587048\n",
      "Number of iteration= 61 , distance = 17170.289488459726\n",
      "Number of iteration= 62 , distance = 13908.630003651317\n",
      "Number of iteration= 63 , distance = 11266.679087909873\n",
      "Number of iteration= 64 , distance = 9126.692545526796\n",
      "Number of iteration= 65 , distance = 7393.296313751705\n",
      "Number of iteration= 66 , distance = 5989.23897649798\n",
      "Number of iteration= 67 , distance = 4851.944658812899\n",
      "Number of iteration= 68 , distance = 3930.7284462668263\n",
      "Number of iteration= 69 , distance = 3184.5363230619337\n",
      "Number of iteration= 70 , distance = 2580.112611342885\n",
      "Number of iteration= 71 , distance = 2090.5221385606515\n",
      "Number of iteration= 72 , distance = 1693.9447045654001\n",
      "Number of iteration= 73 , distance = 1372.7078372150888\n",
      "Number of iteration= 74 , distance = 1112.4977797380122\n",
      "Number of iteration= 75 , distance = 901.7180385590614\n",
      "Number of iteration= 76 , distance = 730.9748561441429\n",
      "Number of iteration= 77 , distance = 592.6618350006563\n",
      "Number of iteration= 78 , distance = 480.6183842258008\n",
      "Number of iteration= 79 , distance = 389.85153775883634\n",
      "Number of iteration= 80 , distance = 316.3162576883642\n",
      "Number of iteration= 81 , distance = 256.73919927127844\n",
      "Number of iteration= 82 , distance = 208.46968536316135\n",
      "Number of iteration= 83 , distance = 169.3515350793084\n",
      "Number of iteration= 84 , distance = 137.64926948497566\n",
      "Number of iteration= 85 , distance = 111.95556810037779\n",
      "Number of iteration= 86 , distance = 91.11923911040148\n",
      "Number of iteration= 87 , distance = 74.22141799245615\n",
      "Number of iteration= 88 , distance = 60.515875184857194\n",
      "Number of iteration= 89 , distance = 49.378574412700395\n",
      "Number of iteration= 90 , distance = 40.238518539504845\n",
      "Number of iteration= 91 , distance = 32.122968879551344\n",
      "Number of iteration= 92 , distance = 25.53883296249989\n",
      "Number of iteration= 93 , distance = 19.764782340900425\n",
      "Number of iteration= 94 , distance = 15.153203272642822\n",
      "Number of iteration= 95 , distance = 11.172872644411502\n",
      "Number of iteration= 96 , distance = 8.01896071891611\n",
      "Number of iteration= 97 , distance = 5.340328256839245\n",
      "Number of iteration= 98 , distance = 3.234203350397436\n",
      "Number of iteration= 99 , distance = 1.4631241776503991\n",
      "Number of iteration= 100 , distance = 0.0\n",
      "V(W) [-8.10161181e+04 -7.29191115e+04 -6.56318055e+04 -5.90732301e+04\n",
      " -5.31705123e+04 -4.78580662e+04 -4.30768648e+04 -3.87737835e+04\n",
      " -3.49010103e+04 -3.14155144e+04 -2.82785681e+04 -2.54553165e+04\n",
      " -2.29143900e+04 -2.06275562e+04 -1.85694057e+04 -1.67170703e+04\n",
      " -1.50499685e+04 -1.35495768e+04 -1.21992243e+04 -1.09839070e+04\n",
      " -9.89012150e+03 -8.90571452e+03 -8.01974824e+03 -7.22237858e+03\n",
      " -6.50474589e+03 -5.85887647e+03 -5.27759400e+03 -4.75443977e+03\n",
      " -4.28360096e+03 -3.85984604e+03 -3.47846660e+03 -3.13522511e+03\n",
      " -2.82630777e+03 -2.54828216e+03 -2.29805912e+03 -2.07285838e+03\n",
      " -1.87017771e+03 -1.68776511e+03 -1.52359377e+03 -1.37583956e+03\n",
      " -1.24286077e+03 -1.12317987e+03 -1.01546705e+03 -9.18525516e+02\n",
      " -8.31278135e+02 -7.52755491e+02 -6.82085112e+02 -6.18481771e+02\n",
      " -5.61238764e+02 -5.09720058e+02 -4.63353223e+02 -4.21623071e+02\n",
      " -3.84065934e+02 -3.50264510e+02 -3.19843230e+02 -2.92464077e+02\n",
      " -2.67822839e+02 -2.45645726e+02 -2.25686323e+02 -2.07722861e+02\n",
      " -1.91555745e+02 -1.77005341e+02 -1.63909977e+02 -1.52124149e+02\n",
      " -1.41516905e+02 -1.31970384e+02 -1.23378516e+02 -1.15645835e+02\n",
      " -1.08686421e+02 -1.02422949e+02 -9.67858247e+01 -9.17124124e+01\n",
      " -8.71463414e+01 -8.30368774e+01 -7.93383599e+01 -7.60096941e+01\n",
      " -7.30138948e+01 -7.03176755e+01 -6.78910782e+01 -6.57071405e+01\n",
      " -6.37415967e+01 -6.19726072e+01 -6.03805167e+01 -5.89476352e+01\n",
      " -5.76580418e+01 -5.64974078e+01 -5.54528372e+01 -5.45127237e+01\n",
      " -5.36666215e+01 -5.29051296e+01 -5.22119824e+01 -5.15266396e+01\n",
      " -5.09028071e+01 -5.02859987e+01 -4.97245494e+01 -4.91694218e+01\n",
      " -4.86641175e+01 -4.81645026e+01 -4.77097288e+01 -4.72600754e+01]\n"
     ]
    }
   ],
   "source": [
    "maxiters = 500\n",
    "toler = 1e-9\n",
    "diff = 10.0\n",
    "VF_iter = 0\n",
    "\n",
    "while diff > toler and VF_iter < maxiters:\n",
    "    VF_iter += 1\n",
    "    V_prime = np.tile(V_T.reshape((1,N)), (N,1))\n",
    "    V_prime[~c_pos] = -9e+4\n",
    "    V_Tp1 = (u_mat + beta * V_prime).max(axis = 1)  \n",
    "    diff = d(V_T, V_Tp1)\n",
    "    W_index = np.argmax(u_mat + beta * V_prime, axis=1)\n",
    "    W_prime = W[W_index]\n",
    "    print('Number of iteration=', VF_iter, ', distance =', diff)\n",
    "    V_T = V_Tp1\n",
    "print('V(W)', V_T)"
   ]
  },
  {
   "cell_type": "markdown",
   "metadata": {},
   "source": [
    "#### Exercise 5.15"
   ]
  },
  {
   "cell_type": "code",
   "execution_count": 11,
   "metadata": {},
   "outputs": [
    {
     "data": {
      "text/plain": [
       "Text(0.5,1,'Converged Policy Function')"
      ]
     },
     "execution_count": 11,
     "metadata": {},
     "output_type": "execute_result"
    },
    {
     "data": {
      "image/png": "[encoded data removed]",
      "text/plain": [
       "<Figure size 432x288 with 1 Axes>"
      ]
     },
     "metadata": {
      "needs_background": "light"
     },
     "output_type": "display_data"
    }
   ],
   "source": [
    "fig,ax = plt.subplots()\n",
    "ax.plot(W, W_prime)\n",
    "ax.set_xlabel(\"W\")\n",
    "ax.set_ylabel(\"W_prime\")\n",
    "ax.set_title(\"Converged Policy Function\")"
   ]
  },
  {
   "cell_type": "markdown",
   "metadata": {},
   "source": [
    "#### Exercise 5.16"
   ]
  },
  {
   "cell_type": "code",
   "execution_count": 12,
   "metadata": {},
   "outputs": [
    {
     "data": {
      "text/plain": [
       "array([0.05, 0.1 , 0.15, 0.2 , 0.25, 0.3 , 0.35])"
      ]
     },
     "execution_count": 12,
     "metadata": {},
     "output_type": "execute_result"
    }
   ],
   "source": [
    "sigma = 0.05\n",
    "M = 7\n",
    "mu = 4 * sigma\n",
    "e_ub = mu+3 * sigma\n",
    "e_lb = mu-3 * sigma\n",
    "epsilon = np.linspace(e_lb, e_ub, M)\n",
    "epsilon"
   ]
  },
  {
   "cell_type": "code",
   "execution_count": 13,
   "metadata": {},
   "outputs": [
    {
     "data": {
      "text/plain": [
       "array([0.08863697, 1.07981933, 4.83941449, 7.97884561, 4.83941449,\n",
       "       1.07981933, 0.08863697])"
      ]
     },
     "execution_count": 13,
     "metadata": {},
     "output_type": "execute_result"
    }
   ],
   "source": [
    "f = lambda x: norm(loc=mu, scale=sigma).pdf(x)\n",
    "gamma = f(epsilon)\n",
    "gamma"
   ]
  },
  {
   "cell_type": "markdown",
   "metadata": {},
   "source": [
    "#### Exercise 5.17"
   ]
  },
  {
   "cell_type": "code",
   "execution_count": 14,
   "metadata": {},
   "outputs": [],
   "source": [
    "W_lb = 1e-2\n",
    "W_ub = 1.0\n",
    "N = 100\n",
    "W = np.linspace(W_lb, W_ub, N)\n",
    "\n",
    "c_mat = np.tile(W.reshape((N,1)), (1,N)) - np.tile(W.reshape((1,N)), (N,1))\n",
    "c_pos = c_mat > 0\n",
    "c_mat[~c_pos] = 1e-7  \n",
    "u_mat = u(c_mat)\n",
    "eu_cube = np.array([u_mat * e for e in epsilon])"
   ]
  },
  {
   "cell_type": "code",
   "execution_count": 15,
   "metadata": {},
   "outputs": [],
   "source": [
    "V_T = np.zeros((N,M))\n",
    "\n",
    "EV_prime = V_T @ gamma.reshape((M,1)) \n",
    "EV_prime_mat = np.tile(EV_prime.reshape((1,N)), (N,1))\n",
    "EV_prime_mat[~c_pos] = -9e+4\n",
    "EV_prime_cube = np.array([EV_prime_mat for e in range(M)])"
   ]
  },
  {
   "cell_type": "code",
   "execution_count": 16,
   "metadata": {},
   "outputs": [],
   "source": [
    "V_Tp1_cube = eu_cube + beta * EV_prime_cube\n",
    "V_Tp1 = np.zeros((N,M))\n",
    "W_Tp1 = np.zeros((N,M))\n",
    "for i in range(N):\n",
    "    sheet = V_Tp1_cube[:, i, :]\n",
    "    V_Tp1[i] = sheet.max(axis=1)\n",
    "    W_index = np.argmax(sheet, axis=1)\n",
    "    W_Tp1[i] = W[W_index]"
   ]
  },
  {
   "cell_type": "markdown",
   "metadata": {},
   "source": [
    "#### Exercise 5.18"
   ]
  },
  {
   "cell_type": "code",
   "execution_count": 17,
   "metadata": {},
   "outputs": [
    {
     "data": {
      "text/plain": [
       "45930655737.64533"
      ]
     },
     "execution_count": 17,
     "metadata": {},
     "output_type": "execute_result"
    }
   ],
   "source": [
    "def d(V_T, V_Tp1):\n",
    "    d = np.sum((V_T-V_Tp1) ** 2)\n",
    "    return d\n",
    "d(V_T, V_Tp1)"
   ]
  },
  {
   "cell_type": "markdown",
   "metadata": {},
   "source": [
    "#### Exercise 5.19"
   ]
  },
  {
   "cell_type": "code",
   "execution_count": 18,
   "metadata": {},
   "outputs": [
    {
     "name": "stdout",
     "output_type": "stream",
     "text": [
      "45929630360.5779\n"
     ]
    }
   ],
   "source": [
    "V_T = V_Tp1\n",
    "\n",
    "EV_prime = V_T @ gamma.reshape((M,1)) \n",
    "EV_prime_mat = np.tile(EV_prime.reshape((1,N)), (N,1))\n",
    "EV_prime_mat[~c_pos] = -9e+4\n",
    "EV_prime_cube = np.array([EV_prime_mat for e in range(M)])\n",
    "V_Tp1_cube = eu_cube + beta * EV_prime_cube\n",
    "V_Tp1 = np.zeros((N,M))\n",
    "W_Tp1 = np.zeros((N,M))\n",
    "for i in range(N):\n",
    "    sheet = V_Tp1_cube[:, i, :]\n",
    "    V_Tp1[i] = sheet.max(axis=1)\n",
    "    W_index = np.argmax(sheet, axis=1)\n",
    "    W_Tp1[i] = W[W_index]\n",
    "print(d(V_T, V_Tp1))"
   ]
  },
  {
   "cell_type": "markdown",
   "metadata": {},
   "source": [
    "#### Exercise 5.20"
   ]
  },
  {
   "cell_type": "code",
   "execution_count": 19,
   "metadata": {},
   "outputs": [
    {
     "name": "stdout",
     "output_type": "stream",
     "text": [
      "45917033863.3907\n"
     ]
    }
   ],
   "source": [
    "V_T = V_Tp1\n",
    "\n",
    "EV_prime = V_T @ gamma.reshape((M,1)) \n",
    "EV_prime_mat = np.tile(EV_prime.reshape((1,N)), (N,1))\n",
    "EV_prime_mat[~c_pos] = -9e+4\n",
    "EV_prime_cube = np.array([EV_prime_mat for e in range(M)])\n",
    "V_Tp1_cube = eu_cube + beta * EV_prime_cube\n",
    "V_Tp1 = np.zeros((N,M))\n",
    "W_Tp1 = np.zeros((N,M))\n",
    "for i in range(N):\n",
    "    sheet = V_Tp1_cube[:,i,:]\n",
    "    V_Tp1[i] = sheet.max(axis=1)\n",
    "    W_index = np.argmax(sheet, axis=1)\n",
    "    W_Tp1[i] = W[W_index]\n",
    "print(d(V_T, V_Tp1))"
   ]
  },
  {
   "cell_type": "markdown",
   "metadata": {},
   "source": [
    "#### Exercise 5.21"
   ]
  },
  {
   "cell_type": "code",
   "execution_count": 20,
   "metadata": {},
   "outputs": [
    {
     "name": "stdout",
     "output_type": "stream",
     "text": [
      "Number of iteration =  1 , distance =  45930655737.64533\n",
      "Number of iteration =  2 , distance =  16223.391772312192\n",
      "Number of iteration =  3 , distance =  5253534.138986075\n",
      "Number of iteration =  4 , distance =  1701223846.2116983\n",
      "Number of iteration =  5 , distance =  518813656513.1142\n",
      "Number of iteration =  6 , distance =  2186621133313.0828\n",
      "Number of iteration =  7 , distance =  263770458241.2872\n",
      "Number of iteration =  8 , distance =  533625542.1073715\n",
      "Number of iteration =  9 , distance =  0.0\n"
     ]
    },
    {
     "data": {
      "text/plain": [
       "array([[0.01, 0.01, 0.01, 0.01, 0.01, 0.01, 0.01],\n",
       "       [0.02, 0.02, 0.02, 0.02, 0.02, 0.02, 0.02],\n",
       "       [0.03, 0.03, 0.03, 0.03, 0.03, 0.03, 0.03],\n",
       "       [0.04, 0.04, 0.04, 0.04, 0.04, 0.04, 0.04],\n",
       "       [0.05, 0.05, 0.05, 0.05, 0.05, 0.05, 0.05],\n",
       "       [0.06, 0.06, 0.06, 0.06, 0.06, 0.06, 0.06],\n",
       "       [0.07, 0.07, 0.07, 0.07, 0.07, 0.07, 0.07],\n",
       "       [0.08, 0.08, 0.08, 0.08, 0.08, 0.08, 0.08],\n",
       "       [0.09, 0.09, 0.09, 0.09, 0.09, 0.09, 0.09],\n",
       "       [0.1 , 0.1 , 0.1 , 0.1 , 0.1 , 0.1 , 0.1 ],\n",
       "       [0.11, 0.11, 0.11, 0.11, 0.11, 0.11, 0.11],\n",
       "       [0.12, 0.12, 0.12, 0.12, 0.12, 0.12, 0.12],\n",
       "       [0.13, 0.13, 0.13, 0.13, 0.13, 0.13, 0.13],\n",
       "       [0.14, 0.14, 0.14, 0.14, 0.14, 0.14, 0.14],\n",
       "       [0.15, 0.15, 0.15, 0.15, 0.15, 0.15, 0.15],\n",
       "       [0.16, 0.16, 0.16, 0.16, 0.16, 0.16, 0.16],\n",
       "       [0.17, 0.17, 0.17, 0.17, 0.17, 0.17, 0.17],\n",
       "       [0.18, 0.18, 0.18, 0.18, 0.18, 0.18, 0.18],\n",
       "       [0.19, 0.19, 0.19, 0.19, 0.19, 0.19, 0.19],\n",
       "       [0.2 , 0.2 , 0.2 , 0.2 , 0.2 , 0.2 , 0.2 ],\n",
       "       [0.21, 0.21, 0.21, 0.21, 0.21, 0.21, 0.21],\n",
       "       [0.22, 0.22, 0.22, 0.22, 0.22, 0.22, 0.22],\n",
       "       [0.23, 0.23, 0.23, 0.23, 0.23, 0.23, 0.23],\n",
       "       [0.24, 0.24, 0.24, 0.24, 0.24, 0.24, 0.24],\n",
       "       [0.25, 0.25, 0.25, 0.25, 0.25, 0.25, 0.25],\n",
       "       [0.26, 0.26, 0.26, 0.26, 0.26, 0.26, 0.26],\n",
       "       [0.27, 0.27, 0.27, 0.27, 0.27, 0.27, 0.27],\n",
       "       [0.28, 0.28, 0.28, 0.28, 0.28, 0.28, 0.28],\n",
       "       [0.29, 0.29, 0.29, 0.29, 0.29, 0.29, 0.29],\n",
       "       [0.3 , 0.3 , 0.3 , 0.3 , 0.3 , 0.3 , 0.3 ],\n",
       "       [0.31, 0.31, 0.31, 0.31, 0.31, 0.31, 0.31],\n",
       "       [0.32, 0.32, 0.32, 0.32, 0.32, 0.32, 0.32],\n",
       "       [0.33, 0.33, 0.33, 0.33, 0.33, 0.33, 0.33],\n",
       "       [0.34, 0.34, 0.34, 0.34, 0.34, 0.34, 0.34],\n",
       "       [0.35, 0.35, 0.35, 0.35, 0.35, 0.35, 0.35],\n",
       "       [0.36, 0.36, 0.36, 0.36, 0.36, 0.36, 0.36],\n",
       "       [0.37, 0.37, 0.37, 0.37, 0.37, 0.37, 0.37],\n",
       "       [0.38, 0.38, 0.38, 0.38, 0.38, 0.38, 0.38],\n",
       "       [0.39, 0.39, 0.39, 0.39, 0.39, 0.39, 0.39],\n",
       "       [0.4 , 0.4 , 0.4 , 0.4 , 0.4 , 0.4 , 0.4 ],\n",
       "       [0.41, 0.41, 0.41, 0.41, 0.41, 0.41, 0.41],\n",
       "       [0.42, 0.42, 0.42, 0.42, 0.42, 0.42, 0.42],\n",
       "       [0.43, 0.43, 0.43, 0.43, 0.43, 0.43, 0.43],\n",
       "       [0.44, 0.44, 0.44, 0.44, 0.44, 0.44, 0.44],\n",
       "       [0.45, 0.45, 0.45, 0.45, 0.45, 0.45, 0.45],\n",
       "       [0.46, 0.46, 0.46, 0.46, 0.46, 0.46, 0.46],\n",
       "       [0.47, 0.47, 0.47, 0.47, 0.47, 0.47, 0.47],\n",
       "       [0.48, 0.48, 0.48, 0.48, 0.48, 0.48, 0.48],\n",
       "       [0.49, 0.49, 0.49, 0.49, 0.49, 0.49, 0.49],\n",
       "       [0.5 , 0.5 , 0.5 , 0.5 , 0.5 , 0.5 , 0.5 ],\n",
       "       [0.51, 0.51, 0.51, 0.51, 0.51, 0.51, 0.51],\n",
       "       [0.52, 0.52, 0.52, 0.52, 0.52, 0.52, 0.52],\n",
       "       [0.53, 0.53, 0.53, 0.53, 0.53, 0.53, 0.53],\n",
       "       [0.54, 0.54, 0.54, 0.54, 0.54, 0.54, 0.54],\n",
       "       [0.55, 0.55, 0.55, 0.55, 0.55, 0.55, 0.55],\n",
       "       [0.56, 0.56, 0.56, 0.56, 0.56, 0.56, 0.56],\n",
       "       [0.57, 0.57, 0.57, 0.57, 0.57, 0.57, 0.57],\n",
       "       [0.58, 0.58, 0.58, 0.58, 0.58, 0.58, 0.58],\n",
       "       [0.59, 0.59, 0.59, 0.59, 0.59, 0.59, 0.59],\n",
       "       [0.6 , 0.6 , 0.6 , 0.6 , 0.6 , 0.6 , 0.6 ],\n",
       "       [0.61, 0.61, 0.61, 0.61, 0.61, 0.61, 0.61],\n",
       "       [0.62, 0.62, 0.62, 0.62, 0.62, 0.62, 0.62],\n",
       "       [0.63, 0.63, 0.63, 0.63, 0.63, 0.63, 0.63],\n",
       "       [0.64, 0.64, 0.64, 0.64, 0.64, 0.64, 0.64],\n",
       "       [0.65, 0.65, 0.65, 0.65, 0.65, 0.65, 0.65],\n",
       "       [0.66, 0.66, 0.66, 0.66, 0.66, 0.66, 0.66],\n",
       "       [0.67, 0.67, 0.67, 0.67, 0.67, 0.67, 0.67],\n",
       "       [0.68, 0.68, 0.68, 0.68, 0.68, 0.68, 0.68],\n",
       "       [0.69, 0.69, 0.69, 0.69, 0.69, 0.69, 0.69],\n",
       "       [0.7 , 0.7 , 0.7 , 0.7 , 0.7 , 0.7 , 0.7 ],\n",
       "       [0.71, 0.71, 0.71, 0.71, 0.71, 0.71, 0.71],\n",
       "       [0.72, 0.72, 0.72, 0.72, 0.72, 0.72, 0.72],\n",
       "       [0.73, 0.73, 0.73, 0.73, 0.73, 0.73, 0.73],\n",
       "       [0.74, 0.74, 0.74, 0.74, 0.74, 0.74, 0.74],\n",
       "       [0.75, 0.75, 0.75, 0.75, 0.75, 0.75, 0.75],\n",
       "       [0.76, 0.76, 0.76, 0.76, 0.76, 0.76, 0.76],\n",
       "       [0.77, 0.77, 0.77, 0.77, 0.77, 0.77, 0.77],\n",
       "       [0.78, 0.78, 0.78, 0.78, 0.78, 0.78, 0.78],\n",
       "       [0.79, 0.79, 0.79, 0.79, 0.79, 0.79, 0.79],\n",
       "       [0.8 , 0.8 , 0.8 , 0.8 , 0.8 , 0.8 , 0.8 ],\n",
       "       [0.81, 0.81, 0.81, 0.81, 0.81, 0.81, 0.81],\n",
       "       [0.82, 0.82, 0.82, 0.82, 0.82, 0.82, 0.82],\n",
       "       [0.83, 0.83, 0.83, 0.83, 0.83, 0.83, 0.83],\n",
       "       [0.84, 0.84, 0.84, 0.84, 0.84, 0.84, 0.84],\n",
       "       [0.85, 0.85, 0.85, 0.85, 0.85, 0.85, 0.85],\n",
       "       [0.86, 0.86, 0.86, 0.86, 0.86, 0.86, 0.86],\n",
       "       [0.87, 0.87, 0.87, 0.87, 0.87, 0.87, 0.87],\n",
       "       [0.88, 0.88, 0.88, 0.88, 0.88, 0.88, 0.88],\n",
       "       [0.89, 0.89, 0.89, 0.89, 0.89, 0.89, 0.89],\n",
       "       [0.9 , 0.9 , 0.9 , 0.9 , 0.9 , 0.9 , 0.9 ],\n",
       "       [0.91, 0.91, 0.91, 0.91, 0.91, 0.91, 0.91],\n",
       "       [0.92, 0.92, 0.92, 0.92, 0.92, 0.92, 0.92],\n",
       "       [0.93, 0.93, 0.93, 0.93, 0.93, 0.93, 0.93],\n",
       "       [0.94, 0.94, 0.94, 0.94, 0.94, 0.94, 0.94],\n",
       "       [0.95, 0.95, 0.95, 0.95, 0.95, 0.95, 0.95],\n",
       "       [0.96, 0.96, 0.96, 0.96, 0.96, 0.96, 0.96],\n",
       "       [0.97, 0.97, 0.97, 0.97, 0.97, 0.97, 0.97],\n",
       "       [0.98, 0.98, 0.98, 0.98, 0.98, 0.98, 0.98],\n",
       "       [0.99, 0.99, 0.99, 0.99, 0.99, 0.99, 0.99],\n",
       "       [1.  , 1.  , 1.  , 1.  , 1.  , 1.  , 1.  ]])"
      ]
     },
     "execution_count": 20,
     "metadata": {},
     "output_type": "execute_result"
    }
   ],
   "source": [
    "maxiters = 500\n",
    "toler = 1e-9\n",
    "diff = 10.0\n",
    "VF_iter = 0\n",
    "V_T = np.zeros((N,M))\n",
    "\n",
    "while diff > toler and VF_iter < maxiters:\n",
    "    VF_iter += 1\n",
    "    EV_prime = V_T @ gamma.reshape((M,1)) \n",
    "    EV_prime_mat = np.tile(EV_prime, (1,N))\n",
    "    EV_prime_mat[~c_pos] = -9e+4\n",
    "    EV_prime_cube = np.array([EV_prime_mat for e in range(M)])\n",
    "    V_Tp1_cube = eu_cube + beta * EV_prime_cube\n",
    "    V_Tp1 = np.zeros((N,M))\n",
    "    W_Tp1 = np.zeros((N,M))\n",
    "    for i in range(N):\n",
    "        sheet = V_Tp1_cube[:,i,:]\n",
    "        V_Tp1[i] = sheet.max(axis=1)\n",
    "        W_index = np.argmax(sheet, axis=1)\n",
    "        W_Tp1[i] = W[W_index]\n",
    "    diff = d(V_T, V_Tp1)\n",
    "    print('Number of iteration = ', VF_iter, ', distance = ', diff)\n",
    "    V_T = V_Tp1\n",
    "W_Tp1"
   ]
  },
  {
   "cell_type": "markdown",
   "metadata": {},
   "source": [
    "#### Exercise 5.22."
   ]
  },
  {
   "cell_type": "code",
   "execution_count": 21,
   "metadata": {},
   "outputs": [
    {
     "data": {
      "image/png": "[encoded data removed]",
      "text/plain": [
       "<Figure size 720x576 with 1 Axes>"
      ]
     },
     "metadata": {
      "needs_background": "light"
     },
     "output_type": "display_data"
    }
   ],
   "source": [
    "X, Y = np.meshgrid(W, epsilon)\n",
    "fig = plt.figure(figsize=(10, 8))\n",
    "ax = fig.add_subplot(111, projection='3d')\n",
    "ax.plot_surface(X.T, Y.T, W_Tp1)\n",
    "ax.set_xlabel('W')\n",
    "ax.set_ylabel('epsilon')\n",
    "ax.set_zlabel('Optimal Policy')\n",
    "ax.set_title(\"Converged Policy Function\")\n",
    "ax.view_init(elev=30,azim=30)\n",
    "plt.show()"
   ]
  }
 ],
 "metadata": {
  "kernelspec": {
   "display_name": "Python 3",
   "language": "python",
   "name": "python3"
  },
  "language_info": {
   "codemirror_mode": {
    "name": "ipython",
    "version": 3
   },
   "file_extension": ".py",
   "mimetype": "text/x-python",
   "name": "python",
   "nbconvert_exporter": "python",
   "pygments_lexer": "ipython3",
   "version": "3.7.0"
  }
 },
 "nbformat": 4,
 "nbformat_minor": 2
}
